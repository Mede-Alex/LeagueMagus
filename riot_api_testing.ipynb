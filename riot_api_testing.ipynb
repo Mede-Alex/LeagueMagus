{
 "cells": [
  {
   "attachments": {},
   "cell_type": "markdown",
   "metadata": {},
   "source": [
    "### API TESTING\n",
    "\n",
    "#### Docs: https://developer.riotgames.com/docs/portal#_getting-started"
   ]
  },
  {
   "cell_type": "code",
   "execution_count": 1,
   "metadata": {},
   "outputs": [
    {
     "data": {
      "text/plain": [
       "True"
      ]
     },
     "execution_count": 1,
     "metadata": {},
     "output_type": "execute_result"
    }
   ],
   "source": [
    "import os\n",
    "from riotwatcher import LolWatcher, ApiError\n",
    "from enum import Enum\n",
    "import pandas as pd\n",
    "from dotenv import load_dotenv\n",
    "from typing import Dict, List, Tuple, Union\n",
    "\n",
    "load_dotenv()"
   ]
  },
  {
   "cell_type": "code",
   "execution_count": 2,
   "metadata": {},
   "outputs": [],
   "source": [
    "class ConfigEnum(Enum):\n",
    "    REGION = 'eun1'\n",
    "    NAME = 'Dusiciel2115'\n",
    "    NO_MATCHES = 100\n",
    "\n",
    "\n",
    "watcher = LolWatcher(\n",
    "    api_key = os.environ.get('RIOT_API_KEY', 'not_found')\n",
    ")\n"
   ]
  },
  {
   "cell_type": "code",
   "execution_count": 3,
   "metadata": {},
   "outputs": [
    {
     "data": {
      "text/plain": [
       "'RGAPI-8666e3ad-d7fc-4ee3-9fda-1bf2f59f6d17'"
      ]
     },
     "execution_count": 3,
     "metadata": {},
     "output_type": "execute_result"
    }
   ],
   "source": [
    "os.environ['RIOT_API_KEY']"
   ]
  },
  {
   "cell_type": "code",
   "execution_count": 4,
   "metadata": {},
   "outputs": [],
   "source": [
    "def get_puuid(watcher: LolWatcher) -> str:\n",
    "    \"\"\"\n",
    "    Returns Summoner's PUUID\n",
    "    \"\"\"\n",
    "    general_info = watcher.summoner.by_name(\n",
    "        region = ConfigEnum.REGION.value,\n",
    "        summoner_name = ConfigEnum.NAME.value\n",
    "    ) \n",
    "    return general_info['puuid']\n",
    "\n",
    "PUUID = get_puuid(\n",
    "    watcher=watcher\n",
    ")\n",
    "       "
   ]
  },
  {
   "cell_type": "code",
   "execution_count": 5,
   "metadata": {},
   "outputs": [],
   "source": [
    "#can only return 100 matches max\n",
    "my_matches = watcher.match.matchlist_by_puuid(\n",
    "    region = ConfigEnum.REGION.value,\n",
    "    count = ConfigEnum.NO_MATCHES.value,\n",
    "    puuid = PUUID,\n",
    ")"
   ]
  },
  {
   "cell_type": "code",
   "execution_count": 6,
   "metadata": {},
   "outputs": [],
   "source": [
    "match_sample = my_matches[0], my_matches[1]"
   ]
  },
  {
   "cell_type": "code",
   "execution_count": 7,
   "metadata": {},
   "outputs": [],
   "source": [
    "def get_match_data(match_id: str) -> Dict[str, Union[str, bool]]:\n",
    "    \n",
    "    match_data = watcher.match.by_id(\n",
    "    region = ConfigEnum.REGION.value,\n",
    "    match_id = match_id\n",
    "    )\n",
    "    return match_data['info']['participants']\n",
    "\n",
    "    "
   ]
  },
  {
   "cell_type": "code",
   "execution_count": 11,
   "metadata": {},
   "outputs": [],
   "source": [
    "match = get_match_data(my_matches[0])"
   ]
  },
  {
   "cell_type": "code",
   "execution_count": 24,
   "metadata": {},
   "outputs": [],
   "source": [
    "int_features = [\n",
    "    'assists', 'champExperience', 'champLevel', 'consumablesPurchased', 'damageDealtToBuildings', 'damageDealtToObjectives', 'damageDealtToTurrets',\n",
    "    'dangerPings', 'deaths', 'detectorWardsPlaced', 'doubleKills', 'dragonKills', 'enemyMissingPings', 'goldEarned', 'goldSpent', 'inhibitorTakedowns',\n",
    "    'inhibitorsLost', 'kills', 'largestKillingSpree', 'longestTimeSpentLiving', 'neutralMinionsKilled', 'spell1Casts', 'spell2Casts', 'spell3Casts', 'spell4Casts',\n",
    "    'summonerLevel', 'totalDamageDealtToChampions', 'totalDamageShieldedOnTeammates', 'totalDamageTaken', 'totalEnemyJungleMinionsKilled', 'totalHeal',\n",
    "    'totalMinionsKilled', 'totalTimeCCDealt', 'totalTimeSpentDead','trueDamageDealt', 'trueDamageDealtToChampions', 'trueDamageTaken', 'turretKills', 'turretsLost',\n",
    "    'visionScore', 'wardsKilled', 'wardsPlaced', 'dragonKills', 'baronKills'\n",
    "]\n",
    "bool_features = [\n",
    "    'firstBloodKill', 'firstTowerKill', 'win'\n",
    "]\n",
    "features = int_features + bool_features"
   ]
  },
  {
   "cell_type": "code",
   "execution_count": 42,
   "metadata": {},
   "outputs": [],
   "source": [
    "df = pd.DataFrame(\n",
    "    columns = features\n",
    ")"
   ]
  },
  {
   "cell_type": "code",
   "execution_count": 43,
   "metadata": {},
   "outputs": [],
   "source": [
    "import copy\n",
    "#works for now (extremely unoptimal)\n",
    "for player in match:\n",
    "    row = [player[attr] for attr in features]\n",
    "    aux_df = copy.deepcopy(df)\n",
    "    aux_df.loc[len(df)] = row\n",
    "df = aux_df.sum()"
   ]
  },
  {
   "cell_type": "code",
   "execution_count": 45,
   "metadata": {},
   "outputs": [
    {
     "data": {
      "text/plain": [
       "assists                      27\n",
       "champExperience           14854\n",
       "champLevel                   16\n",
       "consumablesPurchased          6\n",
       "damageDealtToBuildings     2051\n",
       "dtype: int64"
      ]
     },
     "execution_count": 45,
     "metadata": {},
     "output_type": "execute_result"
    }
   ],
   "source": [
    "df.head()"
   ]
  },
  {
   "cell_type": "code",
   "execution_count": null,
   "metadata": {},
   "outputs": [],
   "source": []
  }
 ],
 "metadata": {
  "kernelspec": {
   "display_name": "venv",
   "language": "python",
   "name": "python3"
  },
  "language_info": {
   "codemirror_mode": {
    "name": "ipython",
    "version": 3
   },
   "file_extension": ".py",
   "mimetype": "text/x-python",
   "name": "python",
   "nbconvert_exporter": "python",
   "pygments_lexer": "ipython3",
   "version": "3.11.2"
  },
  "orig_nbformat": 4
 },
 "nbformat": 4,
 "nbformat_minor": 2
}
